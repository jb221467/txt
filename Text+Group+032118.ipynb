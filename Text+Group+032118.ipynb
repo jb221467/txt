{
 "cells": [
  {
   "cell_type": "markdown",
   "metadata": {},
   "source": [
    "We’re going to start by discussing the four built-in types Python uses: integers, floats, strings, and bools. To get started, we’re going to declare a variable."
   ]
  },
  {
   "cell_type": "code",
   "execution_count": 13,
   "metadata": {
    "collapsed": true
   },
   "outputs": [],
   "source": [
    "x = 'apple'"
   ]
  },
  {
   "cell_type": "markdown",
   "metadata": {},
   "source": [
    "Since 'apple' is in quotes, we would call it a string. Strings are most useful for non-numeric values, though certain digits can be strings such as '12'. For reference, if you would like to turn an integer into a string, use the following command: "
   ]
  },
  {
   "cell_type": "code",
   "execution_count": 12,
   "metadata": {
    "collapsed": true
   },
   "outputs": [],
   "source": [
    "x = str(12)"
   ]
  },
  {
   "cell_type": "markdown",
   "metadata": {},
   "source": [
    "To check if either x is a string, the following command is helpful:"
   ]
  },
  {
   "cell_type": "code",
   "execution_count": 14,
   "metadata": {},
   "outputs": [
    {
     "data": {
      "text/plain": [
       "True"
      ]
     },
     "execution_count": 14,
     "metadata": {},
     "output_type": "execute_result"
    }
   ],
   "source": [
    "isinstance(x, str)"
   ]
  },
  {
   "cell_type": "markdown",
   "metadata": {},
   "source": [
    "Here, the isinstance function takes two arguments, the value we’re hoping to check and a parameter for that value. But what do we do with the function’s output? It should have printed the word True, but there are no quotes around it.One way to check is to call the isinstance(x, str)  y and then run the command on y instead of x "
   ]
  },
  {
   "cell_type": "code",
   "execution_count": 16,
   "metadata": {},
   "outputs": [
    {
     "data": {
      "text/plain": [
       "False"
      ]
     },
     "execution_count": 16,
     "metadata": {},
     "output_type": "execute_result"
    }
   ],
   "source": [
    "y = isinstance(x, str)\n",
    "isinstance(y, str)"
   ]
  },
  {
   "cell_type": "markdown",
   "metadata": {},
   "source": [
    "or:"
   ]
  },
  {
   "cell_type": "code",
   "execution_count": 17,
   "metadata": {},
   "outputs": [
    {
     "data": {
      "text/plain": [
       "False"
      ]
     },
     "execution_count": 17,
     "metadata": {},
     "output_type": "execute_result"
    }
   ],
   "source": [
    "isinstance(isinstance(x,str), str)"
   ]
  },
  {
   "cell_type": "markdown",
   "metadata": {},
   "source": [
    "This will return a False. When a False or True is returned, we are dealing with a bool, short for boolean. Bools will become extremely helpful when we learn about looping functions, but for now we can think of them as a binary.\n",
    "\n",
    "To give you another example, try the following:"
   ]
  },
  {
   "cell_type": "code",
   "execution_count": 18,
   "metadata": {},
   "outputs": [
    {
     "data": {
      "text/plain": [
       "False"
      ]
     },
     "execution_count": 18,
     "metadata": {},
     "output_type": "execute_result"
    }
   ],
   "source": [
    "2 == 3"
   ]
  },
  {
   "cell_type": "markdown",
   "metadata": {},
   "source": [
    "For Python, using one equal sign is for assigning a variable, while two works more like the equal sign we’d see in math. Since 2 does not equal 3, the console should return False.\n",
    "\n",
    "2 and 3 are what are commonly referred to as integers. Integers are real, whole numbers."
   ]
  },
  {
   "cell_type": "markdown",
   "metadata": {},
   "source": [
    "Try the equation 5/2 == 2.5   Python should return True. But if you do int(5/2) == 2.5. it returns false.  That’s because int 5/2 is equal to 2. Python will round down to the nearest number. int(5.999999999/2) will still return a 2.\n"
   ]
  },
  {
   "cell_type": "code",
   "execution_count": 19,
   "metadata": {},
   "outputs": [
    {
     "data": {
      "text/plain": [
       "2"
      ]
     },
     "execution_count": 19,
     "metadata": {},
     "output_type": "execute_result"
    }
   ],
   "source": [
    "5/2 == 2.5\n",
    "\n",
    "int(5/2) == 2.5\n",
    "\n",
    "int(5/2)\n",
    "\n",
    "int(5.9999999/2)"
   ]
  },
  {
   "cell_type": "markdown",
   "metadata": {},
   "source": [
    "The difference between integers and floats starts where the first decimal place is. Integers are great for speed, while floats are great for precision."
   ]
  },
  {
   "cell_type": "markdown",
   "metadata": {},
   "source": [
    "None of these four different types mix especially well, which presents something of a problem to text analysis. We can add 10 to the string “cat” to say that cat occurs ten times."
   ]
  },
  {
   "cell_type": "code",
   "execution_count": 20,
   "metadata": {},
   "outputs": [
    {
     "ename": "TypeError",
     "evalue": "unsupported operand type(s) for +: 'int' and 'str'",
     "output_type": "error",
     "traceback": [
      "\u001b[0;31m---------------------------------------------------------------------------\u001b[0m",
      "\u001b[0;31mTypeError\u001b[0m                                 Traceback (most recent call last)",
      "\u001b[0;32m<ipython-input-20-4c007ddb01fd>\u001b[0m in \u001b[0;36m<module>\u001b[0;34m()\u001b[0m\n\u001b[0;32m----> 1\u001b[0;31m \u001b[0;36m10\u001b[0m \u001b[0;34m+\u001b[0m \u001b[0;34m'cat'\u001b[0m\u001b[0;34m\u001b[0m\u001b[0m\n\u001b[0m",
      "\u001b[0;31mTypeError\u001b[0m: unsupported operand type(s) for +: 'int' and 'str'"
     ]
    }
   ],
   "source": [
    "10 + 'cat'"
   ]
  },
  {
   "cell_type": "markdown",
   "metadata": {},
   "source": [
    "Data types are stored and mixed in Python in numerous ways. For today, we’re going to focus on three: tuples, lists, and dictionaries.\n",
    "\n",
    "A tuple is an immutable sequence of objects in Python. The notation for declaring a tuple is the follow ( , ) A tuple can contain disparate types. If we declare a tuple called co as (10, “cat”)  we finally have the two values together."
   ]
  },
  {
   "cell_type": "code",
   "execution_count": 21,
   "metadata": {
    "collapsed": true
   },
   "outputs": [],
   "source": [
    "co = (10, 'cat') "
   ]
  },
  {
   "cell_type": "markdown",
   "metadata": {},
   "source": [
    "Tuples can also be broken into pieces. For instance, if you only wanted the count of the word “cat”, you could type in co[0] This is calld slicing and gets the very first part of the tuple, 10, and returns it."
   ]
  },
  {
   "cell_type": "code",
   "execution_count": 23,
   "metadata": {},
   "outputs": [
    {
     "data": {
      "text/plain": [
       "'cat'"
      ]
     },
     "execution_count": 23,
     "metadata": {},
     "output_type": "execute_result"
    }
   ],
   "source": [
    "co[0]\n",
    "co[1]"
   ]
  },
  {
   "cell_type": "markdown",
   "metadata": {},
   "source": [
    "If you want to store several versions of the same data type, including a tuple, a list works great. Unlike a tuple, lists are mutable and you can use the commands .pop() and .append() to add and remove items from them.\n",
    "\n",
    "Let’s create two lists. The first will be of your top five favorite snacks. Mine are the following “Popcorn” “Lux Kale Chips” “Roasted Chickpeas” “Trail Mix” “Roasted Almonds”\n",
    "\n",
    "The second will be a list of integers that contains five rankings"
   ]
  },
  {
   "cell_type": "code",
   "execution_count": 2,
   "metadata": {
    "collapsed": true
   },
   "outputs": [],
   "source": [
    "Snacks = ['Popcorn', 'Lux Kale Chips', 'Roasted Chickpeas', 'Trail Mix', 'Roasted Almonds']\n",
    "Rankings = [1, 2, 3, 4, 5]"
   ]
  },
  {
   "cell_type": "markdown",
   "metadata": {},
   "source": [
    "To check the length of both of these, we can use the command len(). In fact, we can use a bool len(Snacks) == len(Ranking). This is crucial because it poses integers as a shared propety of both lists. In other words, we don't necessarily need to compare them on the basis of 'Lux Kale Chips' being present, but can talk about Snacks[1] matching Rankings [1] by both being the second item of a list."
   ]
  },
  {
   "cell_type": "code",
   "execution_count": 3,
   "metadata": {},
   "outputs": [
    {
     "data": {
      "text/plain": [
       "True"
      ]
     },
     "execution_count": 3,
     "metadata": {},
     "output_type": "execute_result"
    }
   ],
   "source": [
    "len(Snacks)\n",
    "len(Rankings)\n",
    "len(Snacks) == len(Rankings)"
   ]
  },
  {
   "cell_type": "markdown",
   "metadata": {},
   "source": [
    "What if we wanted to take these two values and turn them into a list of tuples? Much code in Python involves looping through data to perform operations. As we saw from the len() command, Snacks has five items. If we wanted an action to be performed five times, we could simply say len(Snacks). Today we’re going to learn how to use a For-loop. A for-loop is normally interested in quantity. To demonstrate type in the command:  "
   ]
  },
  {
   "cell_type": "code",
   "execution_count": 4,
   "metadata": {},
   "outputs": [
    {
     "name": "stdout",
     "output_type": "stream",
     "text": [
      "Popcorn\n",
      "Lux Kale Chips\n",
      "Roasted Chickpeas\n",
      "Trail Mix\n",
      "Roasted Almonds\n"
     ]
    }
   ],
   "source": [
    "for snack in Snacks:\n",
    "    print(snack)"
   ]
  },
  {
   "cell_type": "markdown",
   "metadata": {},
   "source": [
    "Brief note on Python syntax. For, If, and While commands are punctuated by a semi-colon. After you use one of these commands, you are obliged to indent."
   ]
  },
  {
   "cell_type": "markdown",
   "metadata": {},
   "source": [
    "Loops can also be used to alter lists. What if I suddenly realize that, though I like Lux Kale Chips, I’m actually more of a donut person? This is where an if statement becomes crucial."
   ]
  },
  {
   "cell_type": "code",
   "execution_count": 5,
   "metadata": {
    "collapsed": true
   },
   "outputs": [],
   "source": [
    "for i in range(len(Snacks)):\n",
    "    if snack[i] == 'Lux Kale Chips':\n",
    "        snack.pop()\n",
    "        Snacks.append('Donuts')"
   ]
  },
  {
   "cell_type": "markdown",
   "metadata": {},
   "source": [
    "The difference between snack in Snacks and I in range(len(Snacks)) is the difference between going string by string and going integer by integer.\n",
    "\n",
    "The pop command will pop an item out of the list (showing it on the console), while the append command will add a new item to the list\n",
    "\n",
    "Now that our lists are ready and we know how to add items to a list, let’s create a new list called snack_prefs"
   ]
  },
  {
   "cell_type": "code",
   "execution_count": 10,
   "metadata": {},
   "outputs": [
    {
     "name": "stdout",
     "output_type": "stream",
     "text": [
      "[(1, 'Popcorn'), (2, 'Lux Kale Chips'), (3, 'Roasted Chickpeas'), (4, 'Trail Mix'), (5, 'Roasted Almonds')]\n"
     ]
    }
   ],
   "source": [
    "snack_prefs = []\n",
    "for snack, ranking in zip(Snacks, Rankings):\n",
    "    snack_prefs.append((ranking, snack))\n",
    "    \n",
    "print(snack_prefs)"
   ]
  },
  {
   "cell_type": "markdown",
   "metadata": {},
   "source": [
    "Let’s create a For-Loop than will print out statements about our preferences in snacks in perfect grammatical detail.\n",
    "\n",
    "We start with: For x in snack_prefs:\n",
    "\n",
    "Let’s look our data, since there are a few dissections we’ll need to make. The first is that some of these items are pluralized and others are singular. We’ll want to split up those if we’re coming up with grammatical statements.\n",
    "\n",
    "Second, 1st, 2nd, 3rd, 4th, and 5th all have different endings, so we’ll need to make a rule.\n",
    "\n",
    "Finally, we need to come up with our print statement. As we’ll remember, the numbers in snack_prefs are integers, but we’ll need them to be strings for the statement itself"
   ]
  },
  {
   "cell_type": "code",
   "execution_count": 11,
   "metadata": {},
   "outputs": [
    {
     "name": "stdout",
     "output_type": "stream",
     "text": [
      "Popcorn is my 1st favorite snack!\n",
      "Lux Kale Chips are my 2nd favorite snack!\n",
      "Roasted Chickpeas are my 3rd favorite snack!\n",
      "Trail Mix is my 4th favorite snack!\n",
      "Roasted Almonds are my 5th favorite snack!\n"
     ]
    }
   ],
   "source": [
    "for i in snack_prefs:\n",
    "\tif i[1].endswith('s'):\n",
    "\t\tt = ' are '\n",
    "\telse:\n",
    "\t\tt = ' is '\n",
    "\tif i[0] >= 4:\n",
    "\t\ty = 'th'\n",
    "\t\tprint(i[1] + t + 'my ' + str(i[0]) + y + ' favorite snack!')\n",
    "\telif i[0] == 1:\n",
    "\t\ty = 'st'\n",
    "\t\tprint(i[1] + t + 'my ' + str(i[0]) + y + ' favorite snack!')\n",
    "\telif i[0] == 2:\n",
    "\t\ty = 'nd'\n",
    "\t\tprint(i[1] + t + 'my ' + str(i[0]) + y + ' favorite snack!')\n",
    "\telif i[0] == 3:\n",
    "\t\ty = 'rd'\n",
    "\t\tprint(i[1] + t + 'my ' + str(i[0]) + y + ' favorite snack!')"
   ]
  },
  {
   "cell_type": "markdown",
   "metadata": {},
   "source": [
    "Try adding new Tuples to the list and see what errors you may encounter when running this code again. For instance:"
   ]
  },
  {
   "cell_type": "code",
   "execution_count": null,
   "metadata": {
    "collapsed": true
   },
   "outputs": [],
   "source": [
    "snack_prefs.append(6, 'hummus')\n",
    "snack_prefs.append(7, 'watercress')\n",
    "snack_prefs.append(8, 'Fluffed Cous Cous')"
   ]
  },
  {
   "cell_type": "markdown",
   "metadata": {},
   "source": [
    "With your groups, come up with a rule that you could add to the for loop above to make these additions print in a gramatically correct way."
   ]
  }
 ],
 "metadata": {
  "kernelspec": {
   "display_name": "Python 3",
   "language": "python",
   "name": "python3"
  },
  "language_info": {
   "codemirror_mode": {
    "name": "ipython",
    "version": 3
   },
   "file_extension": ".py",
   "mimetype": "text/x-python",
   "name": "python",
   "nbconvert_exporter": "python",
   "pygments_lexer": "ipython3",
   "version": "3.6.1"
  }
 },
 "nbformat": 4,
 "nbformat_minor": 2
}
